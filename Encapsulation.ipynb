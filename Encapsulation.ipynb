{
 "cells": [
  {
   "cell_type": "code",
   "execution_count": 3,
   "id": "6dfacffe-cd47-4aba-bbb8-4883254f0763",
   "metadata": {},
   "outputs": [
    {
     "name": "stdout",
     "output_type": "stream",
     "text": [
      "Suchana Subedi\n",
      "100000\n",
      "'Employee' object has no attribute '__id'\n",
      "1234\n",
      "This is a protected method\n",
      "'Employee' object has no attribute '__private_method'\n",
      "This is a private method\n",
      "This is a private method\n"
     ]
    }
   ],
   "source": [
    "class Employee:\n",
    "      def __init__(self,name,salary):\n",
    "        self.name = name              \n",
    "        self._salary = salary         \n",
    "        self.__id = 1234   \n",
    "      def get_details(self):\n",
    "        return f\"Name: {self.name}, Salary: {self._salary}\"\n",
    "\n",
    "      def _protected_method(self):\n",
    "        print(\"This is a protected method\")\n",
    "\n",
    "      def __private_method(self):\n",
    "        print(\"This is a private method\")\n",
    "\n",
    "      def access_private_method(self):\n",
    "        self.__private_method()\n",
    "# Creating an instance of the Employee class\n",
    "emp=Employee(\"Suchana Subedi\",100000)\n",
    "\n",
    "# Accessing public attribute\n",
    "print(emp.name)\n",
    "\n",
    "# Accessing protected attribute\n",
    "print(emp._salary)\n",
    "\n",
    "# Accessing private attribute \n",
    "try:\n",
    "    print(emp.__id)\n",
    "except AttributeError as E:\n",
    "    print(E)\n",
    "\n",
    "# Accessing private attribute using name mangling\n",
    "print(emp._Employee__id) \n",
    "\n",
    "# Accessing protected method\n",
    "emp._protected_method() \n",
    "\n",
    "# Accessing private method directly (will raise an AttributeError)\n",
    "try:\n",
    "    emp.__private_method()\n",
    "except AttributeError as e:\n",
    "    print(e)  \n",
    "\n",
    "# Accessing private method using name mangling\n",
    "emp._Employee__private_method() \n",
    "\n",
    "# Accessing private method via a public method\n",
    "emp.access_private_method() "
   ]
  },
  {
   "cell_type": "code",
   "execution_count": null,
   "id": "7de463e3-d572-4fb8-8ee8-2ae7ee8570d3",
   "metadata": {},
   "outputs": [],
   "source": []
  }
 ],
 "metadata": {
  "kernelspec": {
   "display_name": "Python 3 (ipykernel)",
   "language": "python",
   "name": "python3"
  },
  "language_info": {
   "codemirror_mode": {
    "name": "ipython",
    "version": 3
   },
   "file_extension": ".py",
   "mimetype": "text/x-python",
   "name": "python",
   "nbconvert_exporter": "python",
   "pygments_lexer": "ipython3",
   "version": "3.12.4"
  }
 },
 "nbformat": 4,
 "nbformat_minor": 5
}
