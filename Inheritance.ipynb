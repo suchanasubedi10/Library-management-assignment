{
 "cells": [
  {
   "cell_type": "code",
   "execution_count": 10,
   "id": "5bca201e-35a6-44b6-9343-16ea457ff126",
   "metadata": {},
   "outputs": [
    {
     "name": "stdout",
     "output_type": "stream",
     "text": [
      "Puppy is 4 years old\n",
      "Puppy is eating\n",
      "Puppy says Woof!\n",
      "Puppy is fetching\n",
      "Puppy is 4 years old and is a Bhusiya\n"
     ]
    }
   ],
   "source": [
    "#\"SINGLE INHERITANCE\"\n",
    "\n",
    "# Parent class (Superclass)\n",
    "class Animal:\n",
    "    def __init__(self, name, age):\n",
    "        self.name = name\n",
    "        self.age = age\n",
    "    \n",
    "    def description(self):\n",
    "        return f\"{self.name} is {self.age} years old\"\n",
    "\n",
    "    def eat(self):\n",
    "        return f\"{self.name} is eating\"\n",
    "\n",
    "# Child class (Subclass) inheriting from Animal\n",
    "class Dog(Animal):\n",
    "    def __init__(self, name, age, breed):\n",
    "        super().__init__(name, age)\n",
    "        self.breed = breed\n",
    "    \n",
    "    def bark(self):\n",
    "        return f\"{self.name} says Woof!\"\n",
    "\n",
    "    def fetch(self):\n",
    "        return f\"{self.name} is fetching\"\n",
    "\n",
    "# Usage:\n",
    "dog = Dog(\"Puppy\", 4, \"Bhusiya\")\n",
    "print(dog.description())    \n",
    "print(dog.eat())            \n",
    "print(dog.bark())           \n",
    "print(dog.fetch())          \n",
    "print(f\"{dog.name} is {dog.age} years old and is a {dog.breed}\") "
   ]
  },
  {
   "cell_type": "code",
   "execution_count": 3,
   "id": "64469fbf-4cfb-4b73-aec8-13aa3ea145b2",
   "metadata": {},
   "outputs": [
    {
     "name": "stdout",
     "output_type": "stream",
     "text": [
      "Puppy is speaking\n",
      "Mammal is eating\n",
      "Puppy says Woof!\n",
      "Puppy is 4 years old and is a Bhusiya\n"
     ]
    }
   ],
   "source": [
    "#MULTIPLE INHERITANCE  \n",
    "\n",
    "# First parent class\n",
    "class Animal:\n",
    "    def __init__(self, name):\n",
    "        self.name = name\n",
    "    \n",
    "    def speak(self):\n",
    "        return f\"{self.name} is speaking\"\n",
    "\n",
    "# Second parent class\n",
    "class Mammal:\n",
    "    def __init__(self, age):\n",
    "        self.age = age\n",
    "    \n",
    "    def eat(self):\n",
    "        return f\"Mammal is eating\"\n",
    "\n",
    "# Child class inheriting from Animal and Mammal\n",
    "class Dog(Animal, Mammal):\n",
    "    def __init__(self, name, age, breed):\n",
    "        Animal.__init__(self, name)  \n",
    "        Mammal.__init__(self, age)   \n",
    "        self.breed = breed           \n",
    "    \n",
    "    def bark(self):\n",
    "        return f\"{self.name} says Woof!\"\n",
    "\n",
    "# Usage:\n",
    "dog = Dog(\"Puppy\", 4, \"Bhusiya\")\n",
    "print(dog.speak())    \n",
    "print(dog.eat())      \n",
    "print(dog.bark())     \n",
    "print(f\"{dog.name} is {dog.age} years old and is a {dog.breed}\")  "
   ]
  },
  {
   "cell_type": "code",
   "execution_count": 6,
   "id": "7829bab7-4df9-41ba-88c0-40c359cec3f5",
   "metadata": {},
   "outputs": [
    {
     "name": "stdout",
     "output_type": "stream",
     "text": [
      "Max says Woof!\n",
      "Max is fetching\n"
     ]
    },
    {
     "ename": "NotImplementedError",
     "evalue": "Subclass must implement abstract method",
     "output_type": "error",
     "traceback": [
      "\u001b[1;31m---------------------------------------------------------------------------\u001b[0m",
      "\u001b[1;31mNotImplementedError\u001b[0m                       Traceback (most recent call last)",
      "Cell \u001b[1;32mIn[6], line 24\u001b[0m\n\u001b[0;32m     22\u001b[0m \u001b[38;5;28mprint\u001b[39m(puppy\u001b[38;5;241m.\u001b[39mfetch()) \n\u001b[0;32m     23\u001b[0m pup \u001b[38;5;241m=\u001b[39m Animal(\u001b[38;5;124m'\u001b[39m\u001b[38;5;124mABC\u001b[39m\u001b[38;5;124m'\u001b[39m)\n\u001b[1;32m---> 24\u001b[0m \u001b[38;5;28mprint\u001b[39m(\u001b[43mpup\u001b[49m\u001b[38;5;241;43m.\u001b[39;49m\u001b[43mspeak\u001b[49m\u001b[43m(\u001b[49m\u001b[43m)\u001b[49m)\n",
      "Cell \u001b[1;32mIn[6], line 7\u001b[0m, in \u001b[0;36mAnimal.speak\u001b[1;34m(self)\u001b[0m\n\u001b[0;32m      6\u001b[0m \u001b[38;5;28;01mdef\u001b[39;00m \u001b[38;5;21mspeak\u001b[39m(\u001b[38;5;28mself\u001b[39m):\n\u001b[1;32m----> 7\u001b[0m     \u001b[38;5;28;01mraise\u001b[39;00m \u001b[38;5;167;01mNotImplementedError\u001b[39;00m(\u001b[38;5;124m\"\u001b[39m\u001b[38;5;124mSubclass must implement abstract method\u001b[39m\u001b[38;5;124m\"\u001b[39m)\n",
      "\u001b[1;31mNotImplementedError\u001b[0m: Subclass must implement abstract method"
     ]
    }
   ],
   "source": [
    "#MULTILEVEL INHERITANCE\n",
    "\n",
    "# Grandparent class\n",
    "class Animal:\n",
    "    def __init__(self, name):\n",
    "        self.name = name\n",
    "    \n",
    "    def speak(self):\n",
    "        raise NotImplementedError(\"Subclass must implement abstract method\")\n",
    "\n",
    "# Parent class inheriting from Animal\n",
    "class Dog(Animal):\n",
    "    def speak(self):\n",
    "        return f\"{self.name} says Woof!\"\n",
    "\n",
    "# Child class inheriting from Dog\n",
    "class Puppy(Dog):\n",
    "    def fetch(self):\n",
    "        return f\"{self.name} is fetching\"\n",
    "\n",
    "# Usage:\n",
    "puppy = Puppy(\"Max\")\n",
    "print(puppy.speak())    \n",
    "print(puppy.fetch()) \n",
    "pup = Animal('ABC')\n",
    "print(pup.speak())"
   ]
  },
  {
   "cell_type": "code",
   "execution_count": 9,
   "id": "bdf92894-49b9-42c3-becb-d8384628ef19",
   "metadata": {},
   "outputs": [
    {
     "name": "stdout",
     "output_type": "stream",
     "text": [
      "Puppy says Woof!\n",
      "Neko says Meow!\n"
     ]
    }
   ],
   "source": [
    "#HIRARCHIAL INHERITANCE\n",
    "\n",
    "# Superclass\n",
    "class Animal:\n",
    "    def __init__(self, name):\n",
    "        self.name = name\n",
    "    \n",
    "    def speak(self):\n",
    "        raise NotImplementedError(\"Subclass must implement abstract method\")\n",
    "\n",
    "# Subclass 1 inheriting from Animal\n",
    "class Dog(Animal):\n",
    "    def speak(self):            # common behavior and attributes from Animal\n",
    "        return f\"{self.name} says Woof!\"\n",
    "\n",
    "# Subclass 2 inheriting from Animal\n",
    "class Cat(Animal):\n",
    "    def speak(self):            # common behavior and attributes from Animal\n",
    "        return f\"{self.name} says Meow!\"\n",
    "\n",
    "# Usage:\n",
    "dog = Dog(\"Puppy\")\n",
    "cat = Cat(\"Neko\")\n",
    "print(dog.speak())  \n",
    "print(cat.speak())  \n"
   ]
  },
  {
   "cell_type": "code",
   "execution_count": null,
   "id": "176b1589-3aba-4fb3-8ee6-9e4ff3ad2e8f",
   "metadata": {},
   "outputs": [],
   "source": [
    "#HYBRID INHERITANCE\n",
    "\n",
    "# Superclass 1\n",
    "class Animal:\n",
    "    def __init__(self, name):\n",
    "        self.name = name\n",
    "    \n",
    "    def speak(self):\n",
    "        raise NotImplementedError(\"Subclass must implement abstract method\")\n",
    "\n",
    "# Superclass 2\n",
    "class Mammal:\n",
    "    def feed_milk(self):\n",
    "        return f\"{self.name} feeds milk\"\n",
    "\n",
    "# Subclass inheriting from Animal and Mammal\n",
    "class Dog(Animal, Mammal):\n",
    "    def speak(self):\n",
    "        return f\"{self.name} says Woof!\"\n",
    "\n",
    "# Subclass inheriting from Dog\n",
    "class Puppy(Dog):\n",
    "    def fetch(self):\n",
    "        return f\"{self.name} is fetching\"\n",
    "\n",
    "# Usage:\n",
    "puppy = Puppy(\"Fuchhe\")\n",
    "print(puppy.speak())          \n",
    "print(puppy.feed_milk())      \n",
    "print(puppy.fetch())          "
   ]
  }
 ],
 "metadata": {
  "kernelspec": {
   "display_name": "Python 3 (ipykernel)",
   "language": "python",
   "name": "python3"
  },
  "language_info": {
   "codemirror_mode": {
    "name": "ipython",
    "version": 3
   },
   "file_extension": ".py",
   "mimetype": "text/x-python",
   "name": "python",
   "nbconvert_exporter": "python",
   "pygments_lexer": "ipython3",
   "version": "3.12.4"
  }
 },
 "nbformat": 4,
 "nbformat_minor": 5
}
