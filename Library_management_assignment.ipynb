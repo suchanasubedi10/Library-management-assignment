{
  "nbformat": 4,
  "nbformat_minor": 0,
  "metadata": {
    "colab": {
      "provenance": []
    },
    "kernelspec": {
      "name": "python3",
      "display_name": "Python 3"
    },
    "language_info": {
      "name": "python"
    }
  },
  "cells": [
    {
      "cell_type": "markdown",
      "source": [
        "## **Library Management System**"
      ],
      "metadata": {
        "id": "HxijaoxAqGv5"
      }
    },
    {
      "cell_type": "markdown",
      "source": [
        "##### It is a simple library management system made using three classes: Book, Library, and Student. The Book class represents individual books, the Library class manages the collection of books and their availability, and the Student class manages the books issued to each student."
      ],
      "metadata": {
        "id": "24HeVD4Dpy3H"
      }
    },
    {
      "cell_type": "markdown",
      "source": [
        "### Book Class\n",
        "The Book class represents individual books with attributes for the title, author, checkout status, and due date."
      ],
      "metadata": {
        "id": "LiXSOLloqiIe"
      }
    },
    {
      "cell_type": "code",
      "source": [
        "from datetime import datetime, timedelta\n",
        "\n",
        "class Book:\n",
        "    def __init__(self, title, author):\n",
        "        # Initializes the Book with title and author.\n",
        "        self.title = title\n",
        "        self.author = author\n",
        "        self.is_checked_out = False\n",
        "        self.due_date = None\n",
        "\n",
        "    def __repr__(self):\n",
        "        # Returns a string representation of the Book.\n",
        "        return f\"{self.title} by {self.author}\"\n"
      ],
      "metadata": {
        "id": "zbiwSiNQv_Mb"
      },
      "execution_count": 3,
      "outputs": []
    },
    {
      "cell_type": "markdown",
      "source": [
        "###Library Class\n",
        "The Library class contains methods to add books, list books, check out books, return books, check for overdue books, and list books taken by a specific student."
      ],
      "metadata": {
        "id": "Gidl25Tyq5Te"
      }
    },
    {
      "cell_type": "code",
      "source": [
        "class Library:\n",
        "    def __init__(self):\n",
        "        # Initializes the Library class.\n",
        "        self.books = []\n",
        "        self.checked_out_books = {}\n",
        "\n",
        "    def add_book(self, book):\n",
        "        # Adds a book to the library's collection.\n",
        "        self.books.append(book)\n",
        "        print(f\"Added {book} to the library.\")\n",
        "\n",
        "    def list_books(self):\n",
        "        # Lists all the books in the library and their status.\n",
        "        if not self.books:\n",
        "            print(\"No books in the library.\")\n",
        "        else:\n",
        "            for book in self.books:\n",
        "                status = \"Checked out\" if book.is_checked_out else \"Available\"\n",
        "                print(f\"{book} - {status}\")\n",
        "\n",
        "    def check_out_book(self, book, student):\n",
        "        # Checks out a book to a student.\n",
        "        if book in self.books and not book.is_checked_out:\n",
        "            if len(student.borrowed_books) >= 6:\n",
        "                print(f\"{student.name} cannot borrow more than 6 books.\")\n",
        "                return\n",
        "            book.is_checked_out = True\n",
        "            book.due_date = datetime.now() + timedelta(days=60)\n",
        "            self.checked_out_books[book] = student\n",
        "            student.borrow_book(book)\n",
        "            print(f\"{student.name} checked out {book}. Due date: {book.due_date}.\")\n",
        "        else:\n",
        "            print(f\"{book} is not available for checkout.\")\n",
        "\n",
        "    def return_book(self, book, student):\n",
        "        # Returns a book from a student.\n",
        "        if book in self.checked_out_books and self.checked_out_books[book] == student:\n",
        "            book.is_checked_out = False\n",
        "            book.due_date = None\n",
        "            self.checked_out_books.pop(book)\n",
        "            student.return_book(book)\n",
        "            print(f\"{student.name} returned {book}.\")\n",
        "        else:\n",
        "            print(f\"{book} was not checked out by {student.name}.\")\n",
        "\n",
        "    def check_overdue_books(self):\n",
        "        # Checks for overdue books in the library.\n",
        "        overdue_books = []\n",
        "        for book, student in self.checked_out_books.items():\n",
        "            if book.due_date and book.due_date < datetime.now():\n",
        "                overdue_books.append((book, student))\n",
        "        if not overdue_books:\n",
        "            print(\"No overdue books.\")\n",
        "        else:\n",
        "            for book, student in overdue_books:\n",
        "                print(f\"{book} checked out by {student.name} is overdue. Due date was {book.due_date}.\")\n",
        "\n",
        "    def books_taken_by_student(self, student):\n",
        "        # Lists books taken by a specific student.\n",
        "        books_taken = [book for book, borrower in self.checked_out_books.items() if borrower == student]\n",
        "        return books_taken\n"
      ],
      "metadata": {
        "id": "sm9vrPAEuKAk"
      },
      "execution_count": null,
      "outputs": []
    },
    {
      "cell_type": "markdown",
      "source": [
        "###Student Class\n",
        "The Student class contains methods to manage the list of books issued to each student and to display those books."
      ],
      "metadata": {
        "id": "HWBCCkx6rBam"
      }
    },
    {
      "cell_type": "code",
      "source": [
        "class Student:\n",
        "    def __init__(self, name):\n",
        "        # Initializes the Student class.\n",
        "        self.name = name\n",
        "        self.borrowed_books = []\n",
        "\n",
        "    def borrow_book(self, book):\n",
        "        # Adds a book to the student's borrowed books list.\n",
        "        self.borrowed_books.append(book)\n",
        "\n",
        "    def return_book(self, book):\n",
        "        # Removes a book from the student's borrowed books list.\n",
        "        self.borrowed_books.remove(book)\n",
        "\n",
        "    def list_borrowed_books(self):\n",
        "        # Displays the books issued to the student.\n",
        "        if not self.borrowed_books:\n",
        "            print(f\"\\n{self.name} has not borrowed any books.\")\n",
        "        else:\n",
        "            for book in self.borrowed_books:\n",
        "                print(book)\n"
      ],
      "metadata": {
        "id": "cfzABnNQrEtf"
      },
      "execution_count": 12,
      "outputs": []
    },
    {
      "cell_type": "markdown",
      "source": [
        "####Let's create an instance of the Library class, add some books, create instances of the Student class, issue books to students, and display the current status of the library and the students."
      ],
      "metadata": {
        "id": "3sTEmRb_rJ1H"
      }
    },
    {
      "cell_type": "code",
      "source": [
        "# Create an instance of Library\n",
        "library = Library()\n",
        "\n",
        "# Create books\n",
        "book1 = Book(\"1984\", \"George Orwell\")\n",
        "book2 = Book(\"To Kill a Mockingbird\", \"Harper Lee\")\n",
        "book3 = Book(\"The Great Gatsby\", \"F. Scott Fitzgerald\")\n",
        "book4 = Book(\"Moby Dick\", \"Herman Melville\")\n",
        "book5 = Book(\"War and Peace\", \"Leo Tolstoy\")\n",
        "book6 = Book(\"Pride and Prejudice\", \"Jane Austen\")\n",
        "book7 = Book(\"The Catcher in the Rye\", \"J.D. Salinger\")"
      ],
      "metadata": {
        "id": "sWQxK4wqrFwg"
      },
      "execution_count": 23,
      "outputs": []
    },
    {
      "cell_type": "code",
      "source": [
        "# Add books to the library\n",
        "library.add_book(book1)\n",
        "library.add_book(book2)\n",
        "library.add_book(book3)\n",
        "library.add_book(book4)\n",
        "library.add_book(book5)\n",
        "library.add_book(book6)\n",
        "library.add_book(book7)"
      ],
      "metadata": {
        "colab": {
          "base_uri": "https://localhost:8080/"
        },
        "id": "SCrXYdqTrOlY",
        "outputId": "f45fa90a-571b-4144-fe7e-f79891fe528e"
      },
      "execution_count": 24,
      "outputs": [
        {
          "output_type": "stream",
          "name": "stdout",
          "text": [
            "Added 1984 by George Orwell to the library.\n",
            "Added To Kill a Mockingbird by Harper Lee to the library.\n",
            "Added The Great Gatsby by F. Scott Fitzgerald to the library.\n",
            "Added Moby Dick by Herman Melville to the library.\n",
            "Added War and Peace by Leo Tolstoy to the library.\n",
            "Added Pride and Prejudice by Jane Austen to the library.\n",
            "Added The Catcher in the Rye by J.D. Salinger to the library.\n"
          ]
        }
      ]
    },
    {
      "cell_type": "code",
      "source": [
        "# Create students\n",
        "student1 = Student(\"Alice\")\n",
        "student2 = Student(\"Bob\")\n",
        "\n",
        "# List books in the library\n",
        "library.list_books()"
      ],
      "metadata": {
        "colab": {
          "base_uri": "https://localhost:8080/"
        },
        "id": "ww0Uje9rtZ4K",
        "outputId": "3e3f7d47-80a6-4344-f49d-d8d41a5e24d0"
      },
      "execution_count": 25,
      "outputs": [
        {
          "output_type": "stream",
          "name": "stdout",
          "text": [
            "1984 by George Orwell - Available\n",
            "To Kill a Mockingbird by Harper Lee - Available\n",
            "The Great Gatsby by F. Scott Fitzgerald - Available\n",
            "Moby Dick by Herman Melville - Available\n",
            "War and Peace by Leo Tolstoy - Available\n",
            "Pride and Prejudice by Jane Austen - Available\n",
            "The Catcher in the Rye by J.D. Salinger - Available\n"
          ]
        }
      ]
    },
    {
      "cell_type": "code",
      "source": [
        "# Check out books to students\n",
        "library.check_out_book(book1, student1)\n",
        "library.check_out_book(book2, student1)\n",
        "library.check_out_book(book3, student1)\n",
        "library.check_out_book(book4, student1)\n",
        "library.check_out_book(book5, student1)\n",
        "library.check_out_book(book6, student1)\n",
        "library.check_out_book(book7, student1)"
      ],
      "metadata": {
        "colab": {
          "base_uri": "https://localhost:8080/"
        },
        "id": "4yxElJd2tcj2",
        "outputId": "cde2145c-377e-44e4-eacf-b88f45f1d53a"
      },
      "execution_count": 32,
      "outputs": [
        {
          "output_type": "stream",
          "name": "stdout",
          "text": [
            "Alice checked out 1984 by George Orwell. Due date: 2024-09-12 05:31:55.508088.\n",
            "To Kill a Mockingbird by Harper Lee is not available for checkout.\n",
            "The Great Gatsby by F. Scott Fitzgerald is not available for checkout.\n",
            "Moby Dick by Herman Melville is not available for checkout.\n",
            "War and Peace by Leo Tolstoy is not available for checkout.\n",
            "Pride and Prejudice by Jane Austen is not available for checkout.\n",
            "Alice cannot borrow more than 6 books.\n"
          ]
        }
      ]
    },
    {
      "cell_type": "code",
      "source": [
        "# List borrowed books for each student\n",
        "print('Borrowed books by student: \\n')\n",
        "student1.list_borrowed_books()\n",
        "student2.list_borrowed_books()"
      ],
      "metadata": {
        "colab": {
          "base_uri": "https://localhost:8080/"
        },
        "id": "0QhnNLx7tgke",
        "outputId": "0fd8e6cf-2b46-422f-f527-1e3fff8f4aed"
      },
      "execution_count": 27,
      "outputs": [
        {
          "output_type": "stream",
          "name": "stdout",
          "text": [
            "Borrowed books by student: \n",
            "\n",
            "1984 by George Orwell\n",
            "To Kill a Mockingbird by Harper Lee\n",
            "The Great Gatsby by F. Scott Fitzgerald\n",
            "Moby Dick by Herman Melville\n",
            "War and Peace by Leo Tolstoy\n",
            "Pride and Prejudice by Jane Austen\n",
            "\n",
            "Bob has not borrowed any books.\n"
          ]
        }
      ]
    },
    {
      "cell_type": "code",
      "source": [
        "# Return a book\n",
        "library.return_book(book1, student1)"
      ],
      "metadata": {
        "colab": {
          "base_uri": "https://localhost:8080/"
        },
        "id": "9mdL8OAstlMW",
        "outputId": "ff4a4d96-6b33-42e2-ed6b-a0c8a11f98f7"
      },
      "execution_count": 28,
      "outputs": [
        {
          "output_type": "stream",
          "name": "stdout",
          "text": [
            "Alice returned 1984 by George Orwell.\n"
          ]
        }
      ]
    },
    {
      "cell_type": "code",
      "source": [
        "# List books in the library after returning\n",
        "library.list_books()"
      ],
      "metadata": {
        "colab": {
          "base_uri": "https://localhost:8080/"
        },
        "id": "Y8vI3x0_to3K",
        "outputId": "a39947ea-df05-4037-8e53-f40064711281"
      },
      "execution_count": 29,
      "outputs": [
        {
          "output_type": "stream",
          "name": "stdout",
          "text": [
            "1984 by George Orwell - Available\n",
            "To Kill a Mockingbird by Harper Lee - Checked out\n",
            "The Great Gatsby by F. Scott Fitzgerald - Checked out\n",
            "Moby Dick by Herman Melville - Checked out\n",
            "War and Peace by Leo Tolstoy - Checked out\n",
            "Pride and Prejudice by Jane Austen - Checked out\n",
            "The Catcher in the Rye by J.D. Salinger - Available\n"
          ]
        }
      ]
    },
    {
      "cell_type": "code",
      "source": [
        "# Check for overdue books\n",
        "library.check_overdue_books()"
      ],
      "metadata": {
        "colab": {
          "base_uri": "https://localhost:8080/"
        },
        "id": "elDp3Wrftrxu",
        "outputId": "914788ad-d996-4856-ea0c-c1433bd7217f"
      },
      "execution_count": 30,
      "outputs": [
        {
          "output_type": "stream",
          "name": "stdout",
          "text": [
            "No overdue books.\n"
          ]
        }
      ]
    },
    {
      "cell_type": "code",
      "source": [
        "# List books taken by a specific student\n",
        "books_taken_by_alice = library.books_taken_by_student(student1)\n",
        "print(f\"\\nBooks taken by Alice: {books_taken_by_alice}\")"
      ],
      "metadata": {
        "colab": {
          "base_uri": "https://localhost:8080/"
        },
        "id": "Bkb2cxBqtvzf",
        "outputId": "217d87e2-1648-4ebe-9e6c-f3b281269d00"
      },
      "execution_count": 31,
      "outputs": [
        {
          "output_type": "stream",
          "name": "stdout",
          "text": [
            "\n",
            "Books taken by Alice: [To Kill a Mockingbird by Harper Lee, The Great Gatsby by F. Scott Fitzgerald, Moby Dick by Herman Melville, War and Peace by Leo Tolstoy, Pride and Prejudice by Jane Austen]\n"
          ]
        }
      ]
    },
    {
      "cell_type": "code",
      "source": [],
      "metadata": {
        "id": "GKibxK3ktwlK"
      },
      "execution_count": 31,
      "outputs": []
    }
  ]
}